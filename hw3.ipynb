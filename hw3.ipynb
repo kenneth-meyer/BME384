{
 "cells": [
  {
   "cell_type": "code",
   "execution_count": 28,
   "id": "ea485aeb-dc51-405c-8e98-1f3a0f413b9d",
   "metadata": {},
   "outputs": [],
   "source": [
    "# Kenneth L Meyer\n",
    "# 9/28/2021\n",
    "# BME 384 HW3\n",
    "\n",
    "import numpy as np\n",
    "from sympy import *\n",
    "from sympy.solvers.solveset import nonlinsolve"
   ]
  },
  {
   "cell_type": "code",
   "execution_count": 32,
   "id": "c09825a1-61a2-4f4c-b2cf-a433881e240d",
   "metadata": {},
   "outputs": [],
   "source": [
    "# defining functions that create the different compliance matricies\n",
    "\n",
    "# Transverse Isotropic - NOTE i think that this may be off\n",
    "def create_StransIso(E1,E2,v12,v21,v31,v23,v32,mu12,mu23):\n",
    "    S_transIso = Matrix([[1/E1,-1*v21/E2,-v31/E2,0,0,0],[-1*v12/E1,1/E2,-1*v32/E2,0,0,0],[-1*v13/E1,-1*v23/E2,1/E2,0,0,0],[0,0,0,1/mu12,0,0],[0,0,0,0,1/mu23,0],[0,0,0,0,0,1/mu12]])\n",
    "    return S_transIso\n",
    "\n",
    "# Orthotropic\n",
    "def create_SOrtho(E1,E2,E3,v12,v21,v13,v31,v23,v32,G12,G23,G31):\n",
    "    S_0rtho = Matrix([[1/E1,-1*v21/E2,-v31/E3,0,0,0],[-1*v12/E1,1/E2,-1*v32/E3,0,0,0],[-1*v13/E1,-1*v23/E2,1/E3,0,0,0],[0,0,0,1/G23,0,0],[0,0,0,0,1/G31,0],[0,0,0,0,0,1/G12]])\n",
    "    return S_ortho\n",
    "\n",
    "# Isotropic (C matrix)\n",
    "def create_Ciso(lmbda, mu):\n",
    "    # not sure if I want to use this or the compliance matrix S\n",
    "    Ciso = Matrix([[lmbda+2*mu,lmbda,lmbda,0,0,0],[lmbda,lmbda+2*mu,lmbda,0,0,0],[lmbda,lmbda,lmbda+2*mu,0,0,0],[0,0,0,mu,0,0],[0,0,0,0,mu,0],[0,0,0,0,0,mu]])\n",
    "    return Ciso\n",
    "\n",
    "# Isotropic (compliance Matrix S)\n",
    "def create_Siso(E,nu):\n",
    "    S_iso = Matrix([[1/E,-1*nu/E,-1*nu/E,0,0,0],[-1*nu/E,1/E,-1*nu/E,0,0,0],[-1*nu/E,-1*nu/E,1/E,0,0,0],[0,0,0,1+nu,0,0],[0,0,0,0,1+nu,0],[0,0,0,0,0,1+nu]])\n",
    "    return S_iso"
   ]
  },
  {
   "cell_type": "code",
   "execution_count": 4,
   "id": "21310301-1976-4366-84de-bd6c0c950bcd",
   "metadata": {},
   "outputs": [
    {
     "data": {
      "text/latex": [
       "$\\textbf{Q1:}$  If the Lame constants are given by λ=119.2 GPa and μ= 79.2 GPa, find Young’s modulus, Poisson’s ratio, and the bulk modulus.\n"
      ],
      "text/plain": [
       "<IPython.core.display.Latex object>"
      ]
     },
     "metadata": {},
     "output_type": "display_data"
    }
   ],
   "source": [
    "%%latex\n",
    "$\\textbf{Q1:}$  If the Lame constants are given by λ=119.2 GPa and μ= 79.2 GPa, find Young’s modulus, Poisson’s ratio, and the bulk modulus.\n"
   ]
  },
  {
   "cell_type": "code",
   "execution_count": 5,
   "id": "625b2b12-a483-4041-af21-92aa3e0408b2",
   "metadata": {},
   "outputs": [
    {
     "name": "stdout",
     "output_type": "stream",
     "text": [
      "FiniteSet((205.983870967742, 0.300403225806452))\n"
     ]
    }
   ],
   "source": [
    "lambda1 = 119.2\n",
    "mu = 79.2\n",
    "E,v = symbols('E v')\n",
    "# solve equations for conversion btw lame and material constants\n",
    "sol = nonlinsolve([E/(2*(1+v))-79.2,E*v/((1+v)*(1-2*v))-119.2],[E,v])\n",
    "# extract constants\n",
    "print(sol)\n",
    "E1 = sol.args[0][0]\n",
    "v1 = sol.args[0][1]\n",
    "# find bulk modulus\n",
    "K = E1/(3*(1-2*v1))"
   ]
  },
  {
   "cell_type": "code",
   "execution_count": 6,
   "id": "2f9f7dba-dbb4-4609-819f-9465f5494cdc",
   "metadata": {},
   "outputs": [
    {
     "data": {
      "text/latex": [
       "To find Young's modulus $E$, Poisson's ratio $\\nu$, and the bulk modulus $K$,\n",
       "we solve the following system of equations:\n",
       "    $\\mu = \\frac{E}{2(1+\\nu)}$\n",
       "    $\\lambda = \\frac{E\\nu}{(1+\\nu)(1-2\\nu)}$.\n",
       "The solution to this nonlinear system of equations yields the values of $E$ and $\\nu$,\n",
       "which will be shown below. Using $E$ and $\\nu$, we can solve for the bulk\n",
       "modulus K:\n",
       "    $K = \\frac{E}{3(1-2\\nu)}$\n"
      ],
      "text/plain": [
       "<IPython.core.display.Latex object>"
      ]
     },
     "metadata": {},
     "output_type": "display_data"
    }
   ],
   "source": [
    "%%latex\n",
    "To find Young's modulus $E$, Poisson's ratio $\\nu$, and the bulk modulus $K$,\n",
    "we solve the following system of equations:\n",
    "    $\\mu = \\frac{E}{2(1+\\nu)}$\n",
    "    $\\lambda = \\frac{E\\nu}{(1+\\nu)(1-2\\nu)}$.\n",
    "The solution to this nonlinear system of equations yields the values of $E$ and $\\nu$,\n",
    "which will be shown below. Using $E$ and $\\nu$, we can solve for the bulk\n",
    "modulus K:\n",
    "    $K = \\frac{E}{3(1-2\\nu)}$"
   ]
  },
  {
   "cell_type": "code",
   "execution_count": 7,
   "id": "58b4e205-b16c-41a2-bf40-45f00389923c",
   "metadata": {},
   "outputs": [
    {
     "name": "stdout",
     "output_type": "stream",
     "text": [
      "E = 205.983870967742\n",
      "nu = 0.300403225806452\n",
      "K = 172.000000000000\n"
     ]
    }
   ],
   "source": [
    "print(\"E = \" + str(E1))\n",
    "print(\"nu = \" + str(v1))\n",
    "print(\"K = \" + str(K))"
   ]
  },
  {
   "cell_type": "code",
   "execution_count": 8,
   "id": "5ccd05e1-a698-4754-8d06-cd5a0a9184af",
   "metadata": {},
   "outputs": [
    {
     "data": {
      "text/latex": [
       "$\\textbf{Q2:}$  Given  Young’s  modulus  E  =  103  GPa  and ν=  0.34,  find  the  the  Lame  constants  and  the  bulk modulus.\n",
       "$\\\\$ \n",
       "$\\textbf{A:}$ The equations relating material and lame constants are know, and are as follows:\n",
       "    $\\mu = \\frac{E}{2(1+\\nu)}$\n",
       "    $\\lambda = \\frac{E\\nu}{(1+\\nu)(1-2\\nu)}$.\n"
      ],
      "text/plain": [
       "<IPython.core.display.Latex object>"
      ]
     },
     "metadata": {},
     "output_type": "display_data"
    }
   ],
   "source": [
    "%%latex\n",
    "$\\textbf{Q2:}$  Given  Young’s  modulus  E  =  103  GPa  and ν=  0.34,  find  the  the  Lame  constants  and  the  bulk modulus.\n",
    "$\\\\$ \n",
    "$\\textbf{A:}$ The equations relating material and lame constants are know, and are as follows:\n",
    "    $\\mu = \\frac{E}{2(1+\\nu)}$\n",
    "    $\\lambda = \\frac{E\\nu}{(1+\\nu)(1-2\\nu)}$."
   ]
  },
  {
   "cell_type": "code",
   "execution_count": 9,
   "id": "07ed9c87-77f1-49dc-97b2-056bcf244623",
   "metadata": {},
   "outputs": [
    {
     "name": "stdout",
     "output_type": "stream",
     "text": [
      "Answers\n",
      "mu = 38.43283582089552\n",
      "lambda = 81.669776119403\n"
     ]
    }
   ],
   "source": [
    "# givens\n",
    "E = 103\n",
    "nu = 0.34\n",
    "# solve for lame constants using the eqn above\n",
    "mu = E/(2*(1+nu))\n",
    "lambda1 = E*nu/((1+nu)*(1-2*nu))\n",
    "# would have been easier to save lambda and mu as functions\n",
    "print(\"Answers\")\n",
    "print(\"mu = \" + str(mu))\n",
    "print(\"lambda = \" + str(lambda1))"
   ]
  },
  {
   "cell_type": "code",
   "execution_count": 10,
   "id": "26035039-1fe2-43d0-ac79-eb77bfdada7e",
   "metadata": {},
   "outputs": [
    {
     "data": {
      "text/latex": [
       "$\\textbf{Q3:}$  For structural steel,  an isotropic material,  E = 207 GPa, μ = 79.2 GPa,  and ν= 0.3.   Given the following state of stress:\n",
       "$$\n",
       "\\sigma = \\begin{bmatrix} \n",
       "\t100 & 42 & 6 \\\\\n",
       "\t42 & -2 & 0\\\\\n",
       "\t6 & 0 & 15 \\\\\n",
       "\t\\end{bmatrix}\n",
       "$$\n",
       "What are the resulting strain tensor components?\n",
       "$\\\\$\n",
       "$\\textbf{A:}$ Given that steel is isotropic, we can use the known relationship between strain and\n",
       "stress for isotropic materials. The general 3D stress-strain relationship is known to be\n",
       "$\\sigma = C\\epsilon$, where $\\sigma$ is the stress tensor, $C$ is _____, and $\\epsilon$ is the strain tensor.\n",
       "Given the symmetry of the stress and strain tensors, we can represent this system in Voight\n",
       "Notation. The values of $C$ are known from the given material properties, so we solve the system\n",
       "$C^{-1}\\sigma = \\epsilon$\n"
      ],
      "text/plain": [
       "<IPython.core.display.Latex object>"
      ]
     },
     "metadata": {},
     "output_type": "display_data"
    }
   ],
   "source": [
    "%%latex\n",
    "$\\textbf{Q3:}$  For structural steel,  an isotropic material,  E = 207 GPa, μ = 79.2 GPa,  and ν= 0.3.   Given the following state of stress:\n",
    "$$\n",
    "\\sigma = \\begin{bmatrix} \n",
    "\t100 & 42 & 6 \\\\\n",
    "\t42 & -2 & 0\\\\\n",
    "\t6 & 0 & 15 \\\\\n",
    "\t\\end{bmatrix}\n",
    "$$\n",
    "What are the resulting strain tensor components?\n",
    "$\\\\$\n",
    "$\\textbf{A:}$ Given that steel is isotropic, we can use the known relationship between strain and\n",
    "stress for isotropic materials. The general 3D stress-strain relationship is known to be\n",
    "$\\sigma = C\\epsilon$, where $\\sigma$ is the stress tensor, $C$ is _____, and $\\epsilon$ is the strain tensor.\n",
    "Given the symmetry of the stress and strain tensors, we can represent this system in Voight\n",
    "Notation. The values of $C$ are known from the given material properties, so we solve the system\n",
    "$C^{-1}\\sigma = \\epsilon$"
   ]
  },
  {
   "cell_type": "code",
   "execution_count": 11,
   "id": "4360e0fa-de00-4d0b-bb97-95803e1bc074",
   "metadata": {},
   "outputs": [],
   "source": [
    "# calculate lambda from the given material properties E and nu\n",
    "E = 207\n",
    "nu = 0.3\n",
    "mu = 79.2\n",
    "lambda3 = E*nu/((1+nu)*(1-2*nu))\n",
    "\n",
    "# save stresses using voight notation\n",
    "sigma = np.array([100,-2,15,0,6,42])\n",
    "C = np.zeros([6,6])\n",
    "C[0,0] = lambda3 + 2*mu\n",
    "C[1,1] = C[0,0]\n",
    "C[2,2] = C[0,0]\n",
    "C[3,3] = mu\n",
    "C[4,4] = mu\n",
    "C[5,5] = mu\n",
    "C[0,1] = lambda3\n",
    "C[0,2] = lambda3\n",
    "C[1,2] = lambda3\n",
    "\n",
    "ee = np.dot(np.linalg.inv(C),np.transpose(sigma))"
   ]
  },
  {
   "cell_type": "code",
   "execution_count": 12,
   "id": "58153e2e-0ac3-4dbd-9dd6-03f842910fef",
   "metadata": {},
   "outputs": [
    {
     "name": "stdout",
     "output_type": "stream",
     "text": [
      "[ 0.34980361 -0.0304071   0.0539912   0.          0.07575758  0.53030303]\n"
     ]
    }
   ],
   "source": [
    "print(ee)\n",
    "# now, print the strain tensor components."
   ]
  },
  {
   "cell_type": "code",
   "execution_count": 13,
   "id": "cec6319e-fbe4-4178-ae74-07a93847e943",
   "metadata": {},
   "outputs": [],
   "source": [
    "# important consideration: use a function to define C for \n",
    "# isotropic materials."
   ]
  },
  {
   "cell_type": "code",
   "execution_count": 14,
   "id": "4a4f9815-0caf-4ece-9d7f-dc559cb5031e",
   "metadata": {},
   "outputs": [
    {
     "data": {
      "text/latex": [
       "$\\textbf{Q4:}$  A perfect cube of transversely isotropic material is dropped by a bat while leaving the Congressave bridge one evening and falls to the bottom of Lady Bird Lake to a depth of 10 meters. Determine the pressure at this depth and the resulting stress system on the cube assuming hydrostatic pressure loading only.  Next, write out the resulting 3D strain tensor components in terms of the applied stresses and Engineering material constants for a transverse isotropic material\n"
      ],
      "text/plain": [
       "<IPython.core.display.Latex object>"
      ]
     },
     "metadata": {},
     "output_type": "display_data"
    }
   ],
   "source": [
    "%%latex\n",
    "$\\textbf{Q4:}$  A perfect cube of transversely isotropic material is dropped by a bat while leaving the Congressave bridge one evening and falls to the bottom of Lady Bird Lake to a depth of 10 meters. Determine the pressure at this depth and the resulting stress system on the cube assuming hydrostatic pressure loading only.  Next, write out the resulting 3D strain tensor components in terms of the applied stresses and Engineering material constants for a transverse isotropic material"
   ]
  },
  {
   "cell_type": "code",
   "execution_count": 25,
   "id": "b147553a-b6a2-4404-871e-ffacdf63b94e",
   "metadata": {},
   "outputs": [
    {
     "name": "stdout",
     "output_type": "stream",
     "text": [
      "Transverse Isotropic Compliance Matrix S:\n",
      "⎡ 1     -v₂₁   -v₃₁                ⎤\n",
      "⎢ ──    ─────  ─────   0    0    0 ⎥\n",
      "⎢ E₁      E₂     E₂                ⎥\n",
      "⎢                                  ⎥\n",
      "⎢-v₁₂    1     -v₃₂                ⎥\n",
      "⎢─────   ──    ─────   0    0    0 ⎥\n",
      "⎢  E₁    E₂      E₂                ⎥\n",
      "⎢                                  ⎥\n",
      "⎢-v₁₃   -v₂₃    1                  ⎥\n",
      "⎢─────  ─────   ──     0    0    0 ⎥\n",
      "⎢  E₁     E₂    E₂                 ⎥\n",
      "⎢                                  ⎥\n",
      "⎢                      1           ⎥\n",
      "⎢  0      0      0    ───   0    0 ⎥\n",
      "⎢                     μ₁₂          ⎥\n",
      "⎢                                  ⎥\n",
      "⎢                           1      ⎥\n",
      "⎢  0      0      0     0   ───   0 ⎥\n",
      "⎢                          μ₂₃     ⎥\n",
      "⎢                                  ⎥\n",
      "⎢                                1 ⎥\n",
      "⎢  0      0      0     0    0   ───⎥\n",
      "⎣                               μ₁₂⎦\n"
     ]
    }
   ],
   "source": [
    "# determine pressure at this depth\n",
    "rho = 997 #kg/m^3\n",
    "h = 10 # meters\n",
    "g = 9.81 # gravitational constant\n",
    "P = h*rho*g # Pressure at this depth\n",
    "\n",
    "# determine resulting stress system on cube (assume hydrostatic pressure loading only)\n",
    "s1 = -1*P\n",
    "s2 = s1\n",
    "s3 = s1\n",
    "\n",
    "# write out 3D strain tensor components in terms of applied stresses\n",
    "# known that it is a transverse isotropic material.\n",
    "E1,E2,v12,v21,v13,v31,v23,v32,mu12,mu23 = symbols('E1 E2 v12 v21 v13 v31 v23 v32 mu12 mu23') \n",
    "S_transIso = Matrix([[1/E1,-1*v21/E2,-v31/E2,0,0,0],[-1*v12/E1,1/E2,-1*v32/E2,0,0,0],[-1*v13/E1,-1*v23/E2,1/E2,0,0,0],[0,0,0,1/mu12,0,0],[0,0,0,0,1/mu23,0],[0,0,0,0,0,1/mu12]])\n",
    "#print(\"Transverse Isotropic Compliance Matrix S:\")\n",
    "#print(pretty(S_transIso))\n",
    "sigma = Matrix([s1,s2,s3,0,0,0])\n",
    "# write out \"engineering material constants\" for a transverse isotropic material\n",
    "strain = S_transIso*sigma\n",
    "# I have the answer, but don't know how it should be formatted.\n",
    "# I want to know if sacks wants, -P, or sigma, terms in there\n",
    "# or if it's ok to keep the value.\n",
    "\n",
    "# looks great when it's just <variable>, print(<variable> is weird)\n"
   ]
  },
  {
   "cell_type": "code",
   "execution_count": 27,
   "id": "799b7b9c-9628-4b7f-ae09-e34ecb93942f",
   "metadata": {},
   "outputs": [
    {
     "data": {
      "text/latex": [
       "test\n"
      ],
      "text/plain": [
       "<IPython.core.display.Latex object>"
      ]
     },
     "metadata": {},
     "output_type": "display_data"
    }
   ],
   "source": [
    "%%latex\n",
    "The resulting stress system of the "
   ]
  },
  {
   "cell_type": "code",
   "execution_count": 83,
   "id": "a9dc7aba-46c7-427f-9aa4-8f1f4af99693",
   "metadata": {},
   "outputs": [
    {
     "data": {
      "text/latex": [
       "$\\textbf{Q5:}$  A piece of material is loaded by a uniaxial \n",
       "stress $\\sigma_{11}$ (aligned with the material direction ‘1’). What\n",
       "are the strains in the material, in terms of the engineering constants, for an isotropic, \n",
       "transversely isotropic, and orthotropic material?\n"
      ],
      "text/plain": [
       "<IPython.core.display.Latex object>"
      ]
     },
     "metadata": {},
     "output_type": "display_data"
    }
   ],
   "source": [
    "%%latex\n",
    "$\\textbf{Q5:}$  A piece of material is loaded by a uniaxial \n",
    "stress $\\sigma_{11}$ (aligned with the material direction ‘1’). What\n",
    "are the strains in the material, in terms of the engineering constants, for an isotropic, \n",
    "transversely isotropic, and orthotropic material?"
   ]
  },
  {
   "cell_type": "code",
   "execution_count": 84,
   "id": "8582b267-3b05-4a83-9a19-d7402b1f464c",
   "metadata": {},
   "outputs": [],
   "source": [
    "# becasue there is only uniaxial stress, we can simplify this greatly.\n",
    "# ^ need to do some quick math\n",
    "\n",
    "# howto: set up system of equations, multiply C by e, set equal to sigma11 or 0\n",
    "# and report the values of ee## after solving this system.\n",
    "\n",
    "# isotropic material\n",
    "    # ee44,ee55,e66 are 0.\n",
    "\n",
    "# transversely isotropic material\n",
    "\n",
    "# orthotropic material"
   ]
  },
  {
   "cell_type": "code",
   "execution_count": 88,
   "id": "6a7853bc-bfd2-4d68-8f87-9999b26cf6d9",
   "metadata": {},
   "outputs": [
    {
     "data": {
      "text/latex": [
       "$\\textbf{Q7:}$  State at least three basic assumptions used to formulate \n",
       "for the basic generalize Hookean materialmodel, $\\sigma=C\\epsilon$\n"
      ],
      "text/plain": [
       "<IPython.core.display.Latex object>"
      ]
     },
     "metadata": {},
     "output_type": "display_data"
    }
   ],
   "source": [
    "%%latex\n",
    "$\\textbf{Q7:}$  State at least three basic assumptions used to formulate \n",
    "for the basic generalize Hookean materialmodel, $\\sigma=C\\epsilon$"
   ]
  },
  {
   "cell_type": "code",
   "execution_count": 90,
   "id": "46a5f763-c300-4db9-975f-89c839612b11",
   "metadata": {},
   "outputs": [
    {
     "data": {
      "text/latex": [
       "$\\textbf{Q8:}$ In the basic generalize Hookean material model,\n",
       "$C$ has 81 material constants. What are the (tensor) symmetry \n",
       "conditions utilized to reduce the number of independent \n",
       "constants to 21?\n"
      ],
      "text/plain": [
       "<IPython.core.display.Latex object>"
      ]
     },
     "metadata": {},
     "output_type": "display_data"
    }
   ],
   "source": [
    "%%latex\n",
    "$\\textbf{Q8:}$ In the basic generalize Hookean material model,\n",
    "$C$ has 81 material constants. What are the (tensor) symmetry \n",
    "conditions utilized to reduce the number of independent \n",
    "constants to 21?"
   ]
  },
  {
   "cell_type": "code",
   "execution_count": 94,
   "id": "b27fb508-d3f3-4c85-923e-02878f93bea3",
   "metadata": {},
   "outputs": [
    {
     "data": {
      "text/latex": [
       "$\\textbf{A:}$ The symmetry conditions used to reduce the number of\n",
       "independent constants to 21 are as follows:\n",
       "I THINK THAT THIS IS WRONG\n",
       "$$\n",
       "    C_{1112} = C_{1121} = C_{1211} = C_{2111} \\\\\n",
       "    C_{2221} = C_{2212} = C_{2122} = C_{1222} \\\\\n",
       "    C_{1113} = C_{1131} = C_{1311} = C_{3111} \\\\\n",
       "    C_{3331} = C_{3313} = C_{3133} = C_{1333} \\\\\n",
       "    C_{2223} = C_{2232} = C_{2322} = C_{3222} \\\\\n",
       "    C_{3332} = C_{3323} = C_{3233} = C_{2333} \\\\\n",
       "\n",
       "    C_{1122} = C_{1212} = C_{2112} = C_{2121} = C_{2211} = C_{1221} \\\\\n",
       "    C_{1133} = C_{1313} = C_{3113} = C_{3131} = C_{3311} = C_{1331} \\\\\n",
       "    C_{2233} = C_{2323} = C_{3223} = C_{3232} = C_{3322} = C_{2332} \\\\\n",
       "\n",
       "    C_{2233} = C_{2323} = C_{3223} = C_{3232} = C_{3322} = C_{2332} \\\\\n",
       "\n",
       "$$\n",
       "The two symmetry conditions that are used to reduce the number of\n",
       "independent constants to 21 are first the symmetry conditions of the stress\n",
       "and strain tensors, and then the symmetry conditions of the compliance\n",
       "matrix (first, we know $\\sigma_{12} = \\sigma{21}$... and then we \n",
       "know that $C_{12} = C_{21}$...and we impose those symmetries\n"
      ],
      "text/plain": [
       "<IPython.core.display.Latex object>"
      ]
     },
     "metadata": {},
     "output_type": "display_data"
    }
   ],
   "source": [
    "%%latex\n",
    "$\\textbf{A:}$ The symmetry conditions used to reduce the number of\n",
    "independent constants to 21 are as follows:\n",
    "I THINK THAT THIS IS WRONG\n",
    "$$\n",
    "    C_{1112} = C_{1121} = C_{1211} = C_{2111} \\\\\n",
    "    C_{2221} = C_{2212} = C_{2122} = C_{1222} \\\\\n",
    "    C_{1113} = C_{1131} = C_{1311} = C_{3111} \\\\\n",
    "    C_{3331} = C_{3313} = C_{3133} = C_{1333} \\\\\n",
    "    C_{2223} = C_{2232} = C_{2322} = C_{3222} \\\\\n",
    "    C_{3332} = C_{3323} = C_{3233} = C_{2333} \\\\\n",
    "\n",
    "    C_{1122} = C_{1212} = C_{2112} = C_{2121} = C_{2211} = C_{1221} \\\\\n",
    "    C_{1133} = C_{1313} = C_{3113} = C_{3131} = C_{3311} = C_{1331} \\\\\n",
    "    C_{2233} = C_{2323} = C_{3223} = C_{3232} = C_{3322} = C_{2332} \\\\\n",
    "\n",
    "    C_{2233} = C_{2323} = C_{3223} = C_{3232} = C_{3322} = C_{2332} \\\\\n",
    "\n",
    "$$\n",
    "The two symmetry conditions that are used to reduce the number of\n",
    "independent constants to 21 are first the symmetry conditions of the stress\n",
    "and strain tensors, and then the symmetry conditions of the compliance\n",
    "matrix (first, we know $\\sigma_{12} = \\sigma{21}$... and then we \n",
    "know that $C_{12} = C_{21}$...and we impose those symmetries"
   ]
  },
  {
   "cell_type": "code",
   "execution_count": 97,
   "id": "66238685-bc7f-48fe-8032-6e194cf617f3",
   "metadata": {},
   "outputs": [
    {
     "data": {
      "text/latex": [
       "$\\textbf{Q9:}$  To further simplify the form of $C$ we invoke \n",
       "material symmetries. Define what a plane of material\n",
       "symmetry  is  and  how  it  is  represented  with  respect  \n",
       "to  the  base  vectors $e_i$ in  the  original  and transformed \n",
       "coordinates\n"
      ],
      "text/plain": [
       "<IPython.core.display.Latex object>"
      ]
     },
     "metadata": {},
     "output_type": "display_data"
    }
   ],
   "source": [
    "%%latex\n",
    "$\\textbf{Q9:}$  To further simplify the form of $C$ we invoke \n",
    "material symmetries. Define what a plane of material\n",
    "symmetry  is  and  how  it  is  represented  with  respect  \n",
    "to  the  base  vectors $e_i$ in  the  original  and transformed \n",
    "coordinates"
   ]
  },
  {
   "cell_type": "code",
   "execution_count": 98,
   "id": "253d89ae-9b90-417a-ac76-22bb06b36abc",
   "metadata": {},
   "outputs": [
    {
     "data": {
      "text/latex": [
       "A plane of material symmetry is a plane - i.e. x, y, or z in cartesian\n",
       "coordinates ($e_1$,$e_2$,$e_3$ in general space) in which material\n",
       "properties are the same (NEED TO EXPLAIN THIS BETTER)\n"
      ],
      "text/plain": [
       "<IPython.core.display.Latex object>"
      ]
     },
     "metadata": {},
     "output_type": "display_data"
    }
   ],
   "source": [
    "%%latex\n",
    "A plane of material symmetry is a plane - i.e. x, y, or z in cartesian\n",
    "coordinates ($e_1$,$e_2$,$e_3$ in general space) in which material\n",
    "properties are the same (NEED TO EXPLAIN THIS BETTER)"
   ]
  },
  {
   "cell_type": "code",
   "execution_count": 99,
   "id": "ec321b33-8ac1-4c46-a397-c5f7725bfe61",
   "metadata": {},
   "outputs": [],
   "source": [
    "# overall, everything up until 10 and 11 seem ok out of the box.\n",
    "# luckily, 11 is in the notes, so I think that I sould be ok.\n",
    "# watch lectures/skip through them to see what info I missed."
   ]
  },
  {
   "cell_type": "code",
   "execution_count": null,
   "id": "4a1053b6-9d29-4cde-a5ad-75a88d053bf4",
   "metadata": {},
   "outputs": [],
   "source": []
  }
 ],
 "metadata": {
  "kernelspec": {
   "display_name": "Python 3",
   "language": "python",
   "name": "python3"
  },
  "language_info": {
   "codemirror_mode": {
    "name": "ipython",
    "version": 3
   },
   "file_extension": ".py",
   "mimetype": "text/x-python",
   "name": "python",
   "nbconvert_exporter": "python",
   "pygments_lexer": "ipython3",
   "version": "3.6.9"
  }
 },
 "nbformat": 4,
 "nbformat_minor": 5
}
