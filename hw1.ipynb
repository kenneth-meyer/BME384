{
 "cells": [
  {
   "cell_type": "code",
   "execution_count": 1,
   "id": "c10ca10a-10a1-4e0d-bdb0-b7ba933b6e9c",
   "metadata": {},
   "outputs": [],
   "source": [
    "import numpy as np"
   ]
  },
  {
   "cell_type": "code",
   "execution_count": 2,
   "id": "ca2f4b21-e0a7-48f5-bc9b-1c2dee23bcf4",
   "metadata": {},
   "outputs": [
    {
     "data": {
      "text/plain": [
       "array([0., 0., 0.])"
      ]
     },
     "execution_count": 2,
     "metadata": {},
     "output_type": "execute_result"
    }
   ],
   "source": [
    "np.zeros(3)"
   ]
  },
  {
   "cell_type": "code",
   "execution_count": 3,
   "id": "916f06eb-e4aa-4fb0-8dd2-c3af7eb8ad4f",
   "metadata": {},
   "outputs": [],
   "source": [
    "# the above code was just used to test to see if the notebook was working"
   ]
  },
  {
   "cell_type": "code",
   "execution_count": 4,
   "id": "be72e67c-7918-41b0-82cc-497141c1ee6b",
   "metadata": {},
   "outputs": [],
   "source": [
    "# this entry is testing how to use latex within jupyter notebooks\n",
    "#$$ Q1: Construct the Products A\\dotB and B\\dotA, with A and B being:$$\n",
    "\n",
    "A = np.array([[1,2,3],[4,5,6],[7,8,9]])\n",
    "B = np.array([[10,11,12],[13,14,15],[16,17,18]])"
   ]
  },
  {
   "cell_type": "code",
   "execution_count": 5,
   "id": "7f0cace2-1ce4-4639-97ad-efd243f92d45",
   "metadata": {},
   "outputs": [
    {
     "data": {
      "text/latex": [
       "Q1: Construct the Products $A \\cdot B$ and $B \\cdot A$, with $A$ and $B$ being\n",
       "$$\n",
       "A = \\begin{bmatrix} \n",
       "\t1 & 2 & 3 \\\\\n",
       "\t4 & 5 & 6\\\\\n",
       "\t7 & 8 & 9 \\\\\n",
       "\t\\end{bmatrix}, \n",
       "B = \\begin{bmatrix} \n",
       "\t10 & 11 & 12 \\\\\n",
       "\t13 & 14 & 15\\\\\n",
       "\t16 & 17 & 18 \\\\\n",
       "\t\\end{bmatrix} \n",
       "$$\n"
      ],
      "text/plain": [
       "<IPython.core.display.Latex object>"
      ]
     },
     "metadata": {},
     "output_type": "display_data"
    }
   ],
   "source": [
    "%%latex\n",
    "Q1: Construct the Products $A \\cdot B$ and $B \\cdot A$, with $A$ and $B$ being\n",
    "$$\n",
    "A = \\begin{bmatrix} \n",
    "\t1 & 2 & 3 \\\\\n",
    "\t4 & 5 & 6\\\\\n",
    "\t7 & 8 & 9 \\\\\n",
    "\t\\end{bmatrix}, \n",
    "B = \\begin{bmatrix} \n",
    "\t10 & 11 & 12 \\\\\n",
    "\t13 & 14 & 15\\\\\n",
    "\t16 & 17 & 18 \\\\\n",
    "\t\\end{bmatrix} \n",
    "$$"
   ]
  },
  {
   "cell_type": "code",
   "execution_count": 6,
   "id": "6239cb54-30d0-4231-81b7-71fe1993f7cc",
   "metadata": {},
   "outputs": [],
   "source": [
    "# using sympy in this section. not sure how to print these nicely.\n",
    "from sympy import *\n",
    "A = Matrix([[1,2,3],[4,5,6],[7,8,9]])\n",
    "B = Matrix([[10,11,12],[13,14,15],[16,17,18]])"
   ]
  },
  {
   "cell_type": "code",
   "execution_count": 7,
   "id": "8a43baff-4bee-4de0-a86c-3362196d8ba5",
   "metadata": {},
   "outputs": [
    {
     "name": "stdout",
     "output_type": "stream",
     "text": [
      "A*B = \n"
     ]
    },
    {
     "data": {
      "text/latex": [
       "$\\displaystyle \\left[\\begin{matrix}84 & 90 & 96\\\\201 & 216 & 231\\\\318 & 342 & 366\\end{matrix}\\right]$"
      ],
      "text/plain": [
       "Matrix([\n",
       "[ 84,  90,  96],\n",
       "[201, 216, 231],\n",
       "[318, 342, 366]])"
      ]
     },
     "execution_count": 7,
     "metadata": {},
     "output_type": "execute_result"
    }
   ],
   "source": [
    "print(\"A*B = \")\n",
    "A*B"
   ]
  },
  {
   "cell_type": "code",
   "execution_count": 8,
   "id": "10a998d1-06c2-4857-8f3a-89689c5b33c6",
   "metadata": {},
   "outputs": [
    {
     "name": "stdout",
     "output_type": "stream",
     "text": [
      "B*A = \n"
     ]
    },
    {
     "data": {
      "text/latex": [
       "$\\displaystyle \\left[\\begin{matrix}138 & 171 & 204\\\\174 & 216 & 258\\\\210 & 261 & 312\\end{matrix}\\right]$"
      ],
      "text/plain": [
       "Matrix([\n",
       "[138, 171, 204],\n",
       "[174, 216, 258],\n",
       "[210, 261, 312]])"
      ]
     },
     "execution_count": 8,
     "metadata": {},
     "output_type": "execute_result"
    }
   ],
   "source": [
    "print(\"B*A = \")\n",
    "B*A"
   ]
  },
  {
   "cell_type": "code",
   "execution_count": 9,
   "id": "58de4812-fe6d-40ab-a60a-d322f6899a48",
   "metadata": {},
   "outputs": [
    {
     "data": {
      "text/latex": [
       "Q2: Using the matrix $M$ defined below, determine $M^T$, the symmetric part of $M$, and the skew-symmetic part of $M$\n",
       "$$\n",
       "M = \\begin{bmatrix} \n",
       "\t4 & 5 & -5 \\\\\n",
       "\t-1 & 3 & -1\\\\\n",
       "\t7 & 1 & 1 \\\\\n",
       "\t\\end{bmatrix}\n",
       "$$\n"
      ],
      "text/plain": [
       "<IPython.core.display.Latex object>"
      ]
     },
     "metadata": {},
     "output_type": "display_data"
    }
   ],
   "source": [
    "%%latex\n",
    "Q2: Using the matrix $M$ defined below, determine $M^T$, the symmetric part of $M$, and the skew-symmetic part of $M$\n",
    "$$\n",
    "M = \\begin{bmatrix} \n",
    "\t4 & 5 & -5 \\\\\n",
    "\t-1 & 3 & -1\\\\\n",
    "\t7 & 1 & 1 \\\\\n",
    "\t\\end{bmatrix}\n",
    "$$"
   ]
  },
  {
   "cell_type": "code",
   "execution_count": 10,
   "id": "b6cfa4c4-b99d-4501-8ff1-c60aae9ef71a",
   "metadata": {},
   "outputs": [],
   "source": [
    "M = Matrix([[4,5,-5],[-1,3,-1],[7,1,1]])\n",
    "M_transpose = M.T"
   ]
  },
  {
   "cell_type": "code",
   "execution_count": 11,
   "id": "66d585d2-2efc-498b-8187-ca4704fbd82e",
   "metadata": {},
   "outputs": [
    {
     "data": {
      "text/latex": [
       "The symmetric part of $M$, $M_S$, is defined as\n",
       "$$M_S = \\frac{1}{2}(M + M_T)$$\n",
       "And the skew-symmetic part of $M$, $M_K$, is defined as\n",
       "$$M_K = \\frac{1}{2}(M - M_T)$$\n"
      ],
      "text/plain": [
       "<IPython.core.display.Latex object>"
      ]
     },
     "metadata": {},
     "output_type": "display_data"
    }
   ],
   "source": [
    "%%latex\n",
    "The symmetric part of $M$, $M_S$, is defined as\n",
    "$$M_S = \\frac{1}{2}(M + M_T)$$\n",
    "And the skew-symmetic part of $M$, $M_K$, is defined as\n",
    "$$M_K = \\frac{1}{2}(M - M_T)$$"
   ]
  },
  {
   "cell_type": "code",
   "execution_count": 12,
   "id": "7416adad-50c3-45b1-a24e-5063c6d8cde5",
   "metadata": {},
   "outputs": [],
   "source": [
    "M_S = (1/2)*(M + M_transpose)\n",
    "M_K = (1/2)*(M - M_transpose)"
   ]
  },
  {
   "cell_type": "code",
   "execution_count": 13,
   "id": "00286dab-e8ae-4dd5-b31a-a2920db1c826",
   "metadata": {},
   "outputs": [
    {
     "name": "stdout",
     "output_type": "stream",
     "text": [
      "Symmetric part of M = \n"
     ]
    },
    {
     "data": {
      "text/latex": [
       "$\\displaystyle \\left[\\begin{matrix}4.0 & 2.0 & 1.0\\\\2.0 & 3.0 & 0\\\\1.0 & 0 & 1.0\\end{matrix}\\right]$"
      ],
      "text/plain": [
       "Matrix([\n",
       "[4.0, 2.0, 1.0],\n",
       "[2.0, 3.0,   0],\n",
       "[1.0,   0, 1.0]])"
      ]
     },
     "execution_count": 13,
     "metadata": {},
     "output_type": "execute_result"
    }
   ],
   "source": [
    "print(\"Symmetric part of M = \")\n",
    "M_S"
   ]
  },
  {
   "cell_type": "code",
   "execution_count": 14,
   "id": "5c778568-b217-4093-97c4-95aa1f116f71",
   "metadata": {},
   "outputs": [
    {
     "name": "stdout",
     "output_type": "stream",
     "text": [
      "Skew-symmetric part of M = \n"
     ]
    },
    {
     "data": {
      "text/latex": [
       "$\\displaystyle \\left[\\begin{matrix}0 & 3.0 & -6.0\\\\-3.0 & 0 & -1.0\\\\6.0 & 1.0 & 0\\end{matrix}\\right]$"
      ],
      "text/plain": [
       "Matrix([\n",
       "[   0, 3.0, -6.0],\n",
       "[-3.0,   0, -1.0],\n",
       "[ 6.0, 1.0,    0]])"
      ]
     },
     "execution_count": 14,
     "metadata": {},
     "output_type": "execute_result"
    }
   ],
   "source": [
    "print(\"Skew-symmetric part of M = \")\n",
    "M_K"
   ]
  },
  {
   "cell_type": "code",
   "execution_count": 15,
   "id": "a87e0322-fcee-45e7-b563-47dc4819b346",
   "metadata": {},
   "outputs": [
    {
     "data": {
      "text/latex": [
       "Q3: Show that the trace of the product $A \\cdot B = 0$ if $A$ is symmetric and $B$ is skew-symmetric\n"
      ],
      "text/plain": [
       "<IPython.core.display.Latex object>"
      ]
     },
     "metadata": {},
     "output_type": "display_data"
    }
   ],
   "source": [
    "%%latex\n",
    "Q3: Show that the trace of the product $A \\cdot B = 0$ if $A$ is symmetric and $B$ is skew-symmetric"
   ]
  },
  {
   "cell_type": "code",
   "execution_count": 16,
   "id": "9f1508a2-aaae-4d49-8a84-79a171cb2388",
   "metadata": {},
   "outputs": [
    {
     "name": "stdout",
     "output_type": "stream",
     "text": [
      "Generic symmetric matrix A = \n",
      "⎡a₁  b₁  c₁⎤\n",
      "⎢          ⎥\n",
      "⎢b₁  d₁  e₁⎥\n",
      "⎢          ⎥\n",
      "⎣c₁  e₁  f₁⎦\n",
      "Generic skew-symmetric matrix B = \n",
      "⎡ 0   b₂   c₂⎤\n",
      "⎢            ⎥\n",
      "⎢-b₂   0   e₂⎥\n",
      "⎢            ⎥\n",
      "⎣-c₂  -e₂  0 ⎦\n"
     ]
    }
   ],
   "source": [
    "# use different variables to show that it is ANY symmetric and skew-symmetric matrix\n",
    "a1,b1,c1,d1,e1,f1,a2,b2,c2,d2,e2,f2 = symbols('a1 b1 c1 d1 e1 f1 a2 b2 c2 d2 e2 f2')\n",
    "A = Matrix([[a1,b1,c1],[b1,d1,e1],[c1,e1,f1]])\n",
    "B = Matrix([[0,b2,c2],[-1*b2,0,e2],[-1*c2,-1*e2,0]])\n",
    "print(\"Generic symmetric matrix A = \")\n",
    "print(pretty(A))\n",
    "print(\"Generic skew-symmetric matrix B = \")\n",
    "print(pretty(B))"
   ]
  },
  {
   "cell_type": "code",
   "execution_count": 17,
   "id": "b1272cc0-55bb-41ef-98bf-9134eb3b8c7f",
   "metadata": {},
   "outputs": [
    {
     "data": {
      "text/latex": [
       "Note that for a matrix to be skew-symmetric, its main diagonal must be equal to zero because\n",
       "$A^T = -A$ is the definition of a skew-symmetric matrix, and $x = -x$ iff $x = 0$ $\\forall$ x $\\in R$\n",
       "We will now compute the trace of $A \\cdot B$, which is show to be 0 for generic\n",
       "symmetric and skew-symmetric matricies.\n"
      ],
      "text/plain": [
       "<IPython.core.display.Latex object>"
      ]
     },
     "metadata": {},
     "output_type": "display_data"
    }
   ],
   "source": [
    "%%latex\n",
    "Note that for a matrix to be skew-symmetric, its main diagonal must be equal to zero because\n",
    "$A^T = -A$ is the definition of a skew-symmetric matrix, and $x = -x$ iff $x = 0$ $\\forall$ x $\\in R$\n",
    "We will now compute the trace of $A \\cdot B$, which is show to be 0 for generic\n",
    "symmetric and skew-symmetric matricies."
   ]
  },
  {
   "cell_type": "code",
   "execution_count": 18,
   "id": "96398acd-dfe5-4a94-9eee-458627f6de6e",
   "metadata": {},
   "outputs": [
    {
     "name": "stdout",
     "output_type": "stream",
     "text": [
      "The trace is equal to: 0\n"
     ]
    }
   ],
   "source": [
    "# showing that the tr(A*B) = 0\n",
    "ab = A*B\n",
    "#Trace(ab) does not work; sympy does not like computing the trace of variables I guess\n",
    "#trace of a matrix = sum of the main diagonals\n",
    "trace = ab[0,0] + ab[1,1] + ab[2,2]\n",
    "print(\"The trace is equal to: \" + str(trace))"
   ]
  },
  {
   "cell_type": "code",
   "execution_count": 19,
   "id": "c27df36b-4154-498c-bc99-23dfa9526388",
   "metadata": {},
   "outputs": [
    {
     "data": {
      "text/latex": [
       "Q4: Find the derivative of $A(t)$, where\n",
       "$$\n",
       "A(t) = \\begin{bmatrix} \n",
       "\tt & t^2 & sin(\\omega t) \\\\\n",
       "\tcosh(t) & ln(t) & 17t\\\\\n",
       "\t1/t & 1/(t^2) & ln(t^2) \\\\\n",
       "\t\\end{bmatrix}\n",
       "$$\n"
      ],
      "text/plain": [
       "<IPython.core.display.Latex object>"
      ]
     },
     "metadata": {},
     "output_type": "display_data"
    }
   ],
   "source": [
    "%%latex\n",
    "Q4: Find the derivative of $A(t)$, where\n",
    "$$\n",
    "A(t) = \\begin{bmatrix} \n",
    "\tt & t^2 & sin(\\omega t) \\\\\n",
    "\tcosh(t) & ln(t) & 17t\\\\\n",
    "\t1/t & 1/(t^2) & ln(t^2) \\\\\n",
    "\t\\end{bmatrix}\n",
    "$$"
   ]
  },
  {
   "cell_type": "code",
   "execution_count": 20,
   "id": "a8ce4a73-051e-49e7-842f-f7897454d343",
   "metadata": {},
   "outputs": [
    {
     "name": "stdout",
     "output_type": "stream",
     "text": [
      "The derivative of A(t) is:\n"
     ]
    },
    {
     "data": {
      "text/latex": [
       "$\\displaystyle \\left[\\begin{matrix}1 & 2 t & w \\cos{\\left(t w \\right)}\\\\\\sinh{\\left(t \\right)} & \\frac{1}{t} & 17\\\\- \\frac{1}{t^{2}} & - \\frac{2}{t^{3}} & \\frac{2}{t}\\end{matrix}\\right]$"
      ],
      "text/plain": [
       "Matrix([\n",
       "[      1,     2*t, w*cos(t*w)],\n",
       "[sinh(t),     1/t,         17],\n",
       "[-1/t**2, -2/t**3,        2/t]])"
      ]
     },
     "execution_count": 20,
     "metadata": {},
     "output_type": "execute_result"
    }
   ],
   "source": [
    "t,w = symbols('t,w')\n",
    "A = Matrix([[t,t**2,sin(w*t)],[cosh(t),ln(t),17*t],[1/t,1/(t**2),ln(t**2)]])\n",
    "A_dx = A.diff(t)\n",
    "print(\"The derivative of A(t) is:\")\n",
    "A_dx"
   ]
  },
  {
   "cell_type": "code",
   "execution_count": 21,
   "id": "2128072f-af02-4d77-b310-636c72b312f7",
   "metadata": {},
   "outputs": [
    {
     "data": {
      "text/latex": [
       "Q5: Find the eigenvalues and eigenvectors of the matrix $G$;\n",
       "$$\n",
       "G = \\begin{bmatrix} \n",
       "\t10 & 50 & -50 \\\\\n",
       "\t50 & 100 & 10\\\\\n",
       "\t-50 & 10 & 100 \\\\\n",
       "\t\\end{bmatrix}\n",
       "$$\n"
      ],
      "text/plain": [
       "<IPython.core.display.Latex object>"
      ]
     },
     "metadata": {},
     "output_type": "display_data"
    }
   ],
   "source": [
    "%%latex\n",
    "Q5: Find the eigenvalues and eigenvectors of the matrix $G$;\n",
    "$$\n",
    "G = \\begin{bmatrix} \n",
    "\t10 & 50 & -50 \\\\\n",
    "\t50 & 100 & 10\\\\\n",
    "\t-50 & 10 & 100 \\\\\n",
    "\t\\end{bmatrix}\n",
    "$$"
   ]
  },
  {
   "cell_type": "code",
   "execution_count": 22,
   "id": "944ac55e-3c97-4d2c-918a-8bb46a5d323f",
   "metadata": {},
   "outputs": [],
   "source": [
    "G = Matrix([[10,50,-50],[50,100,10],[-50,10,100]])\n",
    "#G_np = np.array([[1,2,3],[2,4,5],[3,5,6]])\n",
    "eigen = list(G.eigenvals().keys())\n",
    "eigen_vec = G.eigenvects()\n",
    "#eig_np,x = np.linalg.eig(G_np)"
   ]
  },
  {
   "cell_type": "code",
   "execution_count": 23,
   "id": "72e83ace-d73c-4623-9436-adf2e824e744",
   "metadata": {},
   "outputs": [
    {
     "name": "stdout",
     "output_type": "stream",
     "text": [
      "Eigenvalues of G:\n",
      "110.0\n",
      "-31.240384046359605\n",
      "131.2403840463596\n",
      "Corresponding Eigenvectors of G:\n",
      "⎡0⎤\n",
      "⎢ ⎥\n",
      "⎢1⎥\n",
      "⎢ ⎥\n",
      "⎣1⎦\n",
      "⎡4   √66⎤\n",
      "⎢─ + ───⎥\n",
      "⎢5    5 ⎥\n",
      "⎢       ⎥\n",
      "⎢  -1   ⎥\n",
      "⎢       ⎥\n",
      "⎣   1   ⎦\n",
      "⎡4   √66⎤\n",
      "⎢─ - ───⎥\n",
      "⎢5    5 ⎥\n",
      "⎢       ⎥\n",
      "⎢  -1   ⎥\n",
      "⎢       ⎥\n",
      "⎣   1   ⎦\n"
     ]
    }
   ],
   "source": [
    "#eig_np\n",
    "print(\"Eigenvalues of G:\")\n",
    "print(float(eigen[0]))\n",
    "print(float(eigen[1]))\n",
    "print(float(eigen[2]))\n",
    "print(\"Corresponding Eigenvectors of G:\")\n",
    "print(pretty(eigen_vec[0][2][0]))\n",
    "print(pretty(eigen_vec[1][2][0]))\n",
    "print(pretty(eigen_vec[2][2][0]))"
   ]
  },
  {
   "cell_type": "code",
   "execution_count": 24,
   "id": "9c8588ac-2e87-4a34-b11b-b8ed0f2e6398",
   "metadata": {},
   "outputs": [
    {
     "data": {
      "text/latex": [
       "Q6: Determine $G^{−1}$ then show that the eigenvalues of $G^{−1}$ are the inverse of the eigenvalues of $G$.\n"
      ],
      "text/plain": [
       "<IPython.core.display.Latex object>"
      ]
     },
     "metadata": {},
     "output_type": "display_data"
    }
   ],
   "source": [
    "%%latex\n",
    "Q6: Determine $G^{−1}$ then show that the eigenvalues of $G^{−1}$ are the inverse of the eigenvalues of $G$."
   ]
  },
  {
   "cell_type": "code",
   "execution_count": 25,
   "id": "43ae7818-5541-49b8-b523-eb44fa99ac64",
   "metadata": {},
   "outputs": [
    {
     "data": {
      "text/latex": [
       "$\\displaystyle \\left[\\begin{matrix}- \\frac{9}{410} & \\frac{1}{82} & - \\frac{1}{82}\\\\\\frac{1}{82} & \\frac{3}{902} & \\frac{13}{2255}\\\\- \\frac{1}{82} & \\frac{13}{2255} & \\frac{3}{902}\\end{matrix}\\right]$"
      ],
      "text/plain": [
       "Matrix([\n",
       "[-9/410,    1/82,   -1/82],\n",
       "[  1/82,   3/902, 13/2255],\n",
       "[ -1/82, 13/2255,   3/902]])"
      ]
     },
     "execution_count": 25,
     "metadata": {},
     "output_type": "execute_result"
    }
   ],
   "source": [
    "#G_np_inv = np.linalg.inv(G_np)\n",
    "#G_np_inv_eig,z = np.linalg.eig(G_np_inv)\n",
    "G_inv = G.inv()\n",
    "G_inv"
   ]
  },
  {
   "cell_type": "code",
   "execution_count": 26,
   "id": "1294115d-10d9-4610-ba13-390e77c2862c",
   "metadata": {},
   "outputs": [
    {
     "name": "stdout",
     "output_type": "stream",
     "text": [
      "Inverse of eigenvalue 1 of G and the corresponding eigenvalue of G_inv:\n",
      "0.00909090909090909\n",
      "0.00909090909090909\n",
      "Inverse of eigenvalue 2 of G and the corresponding eigenvalue of G_inv:\n",
      "-0.03200984976740478\n",
      "-0.03200984976740478\n",
      "Inverse of eigenvalue 3 of G and the corresponding eigenvalue of G_inv:\n",
      "0.007619605864965757\n",
      "0.007619605864965757\n",
      "Clearly, the above values are equal\n"
     ]
    }
   ],
   "source": [
    "G_inv_eig = list(G_inv.eigenvals().keys())\n",
    "for i in range(0,3):\n",
    "    print(\"Inverse of eigenvalue \" + str(i+1) + \" of G and the corresponding eigenvalue of G_inv:\") \n",
    "    print(float(1/eigen[i]))\n",
    "    print(float(G_inv_eig[i]))\n",
    "print(\"Clearly, the above values are equal\")"
   ]
  },
  {
   "cell_type": "code",
   "execution_count": 27,
   "id": "e8c9b473-c0ff-41d6-8d42-4b276090d015",
   "metadata": {},
   "outputs": [],
   "source": [
    "#^ need to figure out how to index these; definitely are inverses of each other. symbolic answer is weird..."
   ]
  },
  {
   "cell_type": "code",
   "execution_count": 28,
   "id": "c4534e12-6aa2-4292-a130-0be584e14620",
   "metadata": {},
   "outputs": [
    {
     "data": {
      "text/latex": [
       "Q7 For the matrix $T$ with the following Cartesian components\n",
       "$$\n",
       "T = \\begin{bmatrix} \n",
       "\t1 & 0 & 0 \\\\\n",
       "\t0 & \\frac{11}{4} & -\\frac{\\sqrt{3}}{4}\\\\\n",
       "\t0 & -\\frac{\\sqrt{3}}{4} & \\frac{9}{4} \\\\\n",
       "\t\\end{bmatrix}\n",
       "$$\n"
      ],
      "text/plain": [
       "<IPython.core.display.Latex object>"
      ]
     },
     "metadata": {},
     "output_type": "display_data"
    }
   ],
   "source": [
    "%%latex\n",
    "Q7 For the matrix $T$ with the following Cartesian components\n",
    "$$\n",
    "T = \\begin{bmatrix} \n",
    "\t1 & 0 & 0 \\\\\n",
    "\t0 & \\frac{11}{4} & -\\frac{\\sqrt{3}}{4}\\\\\n",
    "\t0 & -\\frac{\\sqrt{3}}{4} & \\frac{9}{4} \\\\\n",
    "\t\\end{bmatrix}\n",
    "$$"
   ]
  },
  {
   "cell_type": "code",
   "execution_count": 29,
   "id": "c89c2bb5-32cc-4b0b-bf2a-e9b9eae94ebf",
   "metadata": {},
   "outputs": [
    {
     "name": "stdout",
     "output_type": "stream",
     "text": [
      "Eigenvalues:\n",
      "[3. 2. 1.]\n",
      "First eigenvector:\n",
      "[-0.5       -0.8660254  0.       ]\n",
      "Second eigenvector:\n",
      "[-0.8660254  0.5        0.       ]\n",
      "Third Eigenvector:\n",
      "[0. 0. 1.]\n",
      "Angle between first eigenvector and the x1 axis = 2.0943951023931957\n",
      "Showing that all the eigenvectors are unit vectors:\n",
      "norm of eigenvector [0. 0. 1.]: 1.0\n",
      "norm of eigenvector [-0.5       -0.8660254  0.       ]: 1.0\n",
      "norm of eigenvector [-0.8660254  0.5        0.       ]: 1.0\n",
      "the inner product of all combinations of eigenvectors is 0\n",
      "0.0\n",
      "0.0\n",
      "0.0\n",
      "---hence, the eigenvectors form an orthonormal basis---\n"
     ]
    }
   ],
   "source": [
    "# a) Find the eigenvalues and eigenvectors\n",
    "# b) Find the angle between the first eigenvector and the x1 access\n",
    "# c) That the eigenvectors form an orthonormal basis\n",
    "\n",
    "T = np.array([[1,0,0],[0,11/4,-1*np.sqrt(3)/4],[0,-1*np.sqrt(3)/4,9/4]])\n",
    "# eigenvalues and eigenvectors\n",
    "T_eig,T_eigVec = np.linalg.eig(T)\n",
    "# need to order these\n",
    "print(\"Eigenvalues:\")\n",
    "print(np.sort(T_eig)[::-1])\n",
    "# order these by size\n",
    "print(\"First eigenvector:\")\n",
    "print(T_eigVec[1])\n",
    "print(\"Second eigenvector:\")\n",
    "print(T_eigVec[2])\n",
    "print(\"Third Eigenvector:\")\n",
    "print(T_eigVec[0])\n",
    "# angle between first eigenvalue and x1 axis\n",
    "theta_x1 = np.arccos(T_eigVec[1][0]/(np.sqrt(T_eigVec[1][0]**2 + T_eigVec[1][1]**2 + T_eigVec[1][2]**2)))\n",
    "print(\"Angle between first eigenvector and the x1 axis = \" + str(theta_x1))\n",
    "# Show that the eigenvectors form an orthonormal basis\n",
    "print(\"Showing that all the eigenvectors are unit vectors:\")\n",
    "for j in range(0,3):\n",
    "    print(\"norm of eigenvector \" + str(T_eigVec[j]) + \": \" + str(np.linalg.norm(T_eigVec[j])))\n",
    "# show that they are all orthogonal\n",
    "print(\"the inner product of all combinations of eigenvectors is 0\")\n",
    "print(np.dot(T_eigVec[0],T_eigVec[1]))\n",
    "print(np.dot(T_eigVec[0],T_eigVec[2]))\n",
    "print(np.dot(T_eigVec[1],T_eigVec[2]))\n",
    "print(\"---hence, the eigenvectors form an orthonormal basis---\")"
   ]
  },
  {
   "cell_type": "code",
   "execution_count": 30,
   "id": "7fc7eff3-5118-4c30-bf91-9bb547dea987",
   "metadata": {},
   "outputs": [
    {
     "data": {
      "text/latex": [
       "2. The Stress tensor $\\\\$\n",
       "Q8: The state of stress at a certain point in a body is given by\n",
       "$$\n",
       "T = \\begin{bmatrix} \n",
       "\t1 & 2 & 3 \\\\\n",
       "\t2 & 4 & 5\\\\\n",
       "\t3 & 5 & 0 \\\\\n",
       "\t\\end{bmatrix} {MPa}\n",
       "$$\n",
       "On each of the coordinate planes (with normals $e_1$,$e_2$,$e_3$), \n",
       "determine the normal stress and the magnitude of the\n",
       "total shear stress.\n",
       "$\\\\$\n",
       "Answer: the normal stress on each coordinate plane $e_i$ is equivalent to $T_{ii}$, \n",
       "and the shear stress is equivalent to the magnitude of $T_{ij}$, where $i \\neq j$. \n",
       "Hence, we have as follows:\n"
      ],
      "text/plain": [
       "<IPython.core.display.Latex object>"
      ]
     },
     "metadata": {},
     "output_type": "display_data"
    }
   ],
   "source": [
    "%%latex\n",
    "2. The Stress tensor $\\\\$\n",
    "Q8: The state of stress at a certain point in a body is given by\n",
    "$$\n",
    "T = \\begin{bmatrix} \n",
    "\t1 & 2 & 3 \\\\\n",
    "\t2 & 4 & 5\\\\\n",
    "\t3 & 5 & 0 \\\\\n",
    "\t\\end{bmatrix} {MPa}\n",
    "$$\n",
    "On each of the coordinate planes (with normals $e_1$,$e_2$,$e_3$), \n",
    "determine the normal stress and the magnitude of the\n",
    "total shear stress.\n",
    "$\\\\$\n",
    "Answer: the normal stress on each coordinate plane $e_i$ is equivalent to $T_{ii}$, \n",
    "and the shear stress is equivalent to the magnitude of $T_{ij}$, where $i \\neq j$. \n",
    "Hence, we have as follows:\n"
   ]
  },
  {
   "cell_type": "code",
   "execution_count": 31,
   "id": "03dc341d-f7f9-4a73-acb7-753b6c5d611c",
   "metadata": {},
   "outputs": [
    {
     "name": "stdout",
     "output_type": "stream",
     "text": [
      "Answer to Question 8:\n",
      "On the plane e1:\n",
      "Normal stress = 1\n",
      "Magnitude of Total Shear Stress = 3.60555127546399\n",
      "On the plane e2:\n",
      "Normal stress = 4\n",
      "Magnitude of Total Shear Stress = 5.38516480713450\n",
      "On the plane e3:\n",
      "Normal stress = 0\n",
      "Magnitude of Total Shear Stress = 5.83095189484530\n"
     ]
    }
   ],
   "source": [
    "T = Matrix([[1,2,3],[2,4,5],[3,5,0]])\n",
    "print(\"Answer to Question 8:\")\n",
    "for i in range(0,3):\n",
    "    print(\"On the plane e\" + str(i+1) + \":\")\n",
    "    print(\"Normal stress = \"  + str(T[i,i]))\n",
    "    print(\"Magnitude of Total Shear Stress = \" + str(sqrt(T[i,i-1]**2. + T[i,i-2]**2.)))"
   ]
  },
  {
   "cell_type": "code",
   "execution_count": 32,
   "id": "4396b3a1-e9b6-445f-b1d9-9c5eef64a65f",
   "metadata": {},
   "outputs": [
    {
     "data": {
      "text/latex": [
       "Q9: The state of stress at a certain point in a body is given by\n",
       "$$\n",
       "T = \\begin{bmatrix} \n",
       "\t2 & -1 & 3 \\\\\n",
       "\t-1 & 4 & 0\\\\\n",
       "\t3 & 0 & -1 \\\\\n",
       "\t\\end{bmatrix} {MPa}\n",
       "$$\n",
       "For the plane defined by its normal n = $2e_1 + 2e_2 + e_3$, find the traction (or stress) vector, \n",
       "and the magnitude of the normal and shear stress.\n"
      ],
      "text/plain": [
       "<IPython.core.display.Latex object>"
      ]
     },
     "metadata": {},
     "output_type": "display_data"
    }
   ],
   "source": [
    "%%latex\n",
    "Q9: The state of stress at a certain point in a body is given by\n",
    "$$\n",
    "T = \\begin{bmatrix} \n",
    "\t2 & -1 & 3 \\\\\n",
    "\t-1 & 4 & 0\\\\\n",
    "\t3 & 0 & -1 \\\\\n",
    "\t\\end{bmatrix} {MPa}\n",
    "$$\n",
    "For the plane defined by its normal n = $2e_1 + 2e_2 + e_3$, find the traction (or stress) vector, \n",
    "and the magnitude of the normal and shear stress.\n"
   ]
  },
  {
   "cell_type": "code",
   "execution_count": null,
   "id": "8a03d249-9209-40b5-be68-21d63cbba50b",
   "metadata": {},
   "outputs": [],
   "source": []
  },
  {
   "cell_type": "code",
   "execution_count": 33,
   "id": "320b1879-d1db-41da-a8d7-9eb3a8dae69d",
   "metadata": {},
   "outputs": [
    {
     "name": "stdout",
     "output_type": "stream",
     "text": [
      "Q9: Answer\n",
      "Traction vector t = \n",
      "⎡5⎤\n",
      "⎢ ⎥\n",
      "⎢6⎥\n",
      "⎢ ⎥\n",
      "⎣5⎦\n",
      "Normal Stress = 27\n",
      "Shear Stress = \n",
      "⎡-49⎤\n",
      "⎢   ⎥\n",
      "⎢-48⎥\n",
      "⎢   ⎥\n",
      "⎣-22⎦\n"
     ]
    }
   ],
   "source": [
    "# Q9 Answer: \n",
    "print(\"Q9: Answer\")\n",
    "n = Matrix([2,2,1])\n",
    "T = Matrix([[2,-1,3],[-1,4,0],[3,0,-1]])\n",
    "# t = T*n\n",
    "t = T*n\n",
    "print(\"Traction vector t = \")\n",
    "print(pretty(t))\n",
    "# magnitude of normal stress on this plane = t dot n\n",
    "normal_stress = t.dot(n)\n",
    "# magnitude of shear stress on this plane = magnitude(t  - normal_stress*n)\n",
    "shear_stress = t - normal_stress*n\n",
    "shear_stress_norm = shear_stress.norm()\n",
    "print(\"Normal Stress = \" + str(normal_stress))\n",
    "print(\"Shear Stress = \")\n",
    "print(pretty(shear_stress))"
   ]
  },
  {
   "cell_type": "code",
   "execution_count": 34,
   "id": "69ff4e0d-e8ab-46e7-9d52-5b4c871e3690",
   "metadata": {},
   "outputs": [
    {
     "data": {
      "text/latex": [
       "Q10: Given $T_{11} = 1$ MPa and $T_{22} = -1$ MPa, with all other $T_{ij} = 0$ at a point in a \n",
       "continuum, show that the only plane in which the traction vector is zero is \n",
       "the plane whose normal is $e_3$.\n"
      ],
      "text/plain": [
       "<IPython.core.display.Latex object>"
      ]
     },
     "metadata": {},
     "output_type": "display_data"
    }
   ],
   "source": [
    "%%latex\n",
    "Q10: Given $T_{11} = 1$ MPa and $T_{22} = -1$ MPa, with all other $T_{ij} = 0$ at a point in a \n",
    "continuum, show that the only plane in which the traction vector is zero is \n",
    "the plane whose normal is $e_3$.\n"
   ]
  },
  {
   "cell_type": "code",
   "execution_count": 35,
   "id": "e84e1ec2-ad96-49e6-ad6a-be6aff1f47b0",
   "metadata": {},
   "outputs": [
    {
     "name": "stdout",
     "output_type": "stream",
     "text": [
      "Q10 Answer:\n",
      "⎡x⎤\n",
      "⎢ ⎥\n",
      "⎢y⎥\n",
      "⎢ ⎥\n",
      "⎣0⎦\n",
      "Regardless of the choice of plane, the only plane in which the tractionvector is zero \n",
      "is the plane e3 (the third entry in the vector.)\n"
     ]
    }
   ],
   "source": [
    "T = Matrix([[1,0,0],[0,1,0],[0,0,0]])\n",
    "# define arbitrary constants that give the components of an arbitrary normal vector\n",
    "x, y, z = symbols('x y z')\n",
    "n = Matrix([x,y,z])\n",
    "t = T*n\n",
    "print(\"Q10 Answer:\")\n",
    "print(pretty(t))\n",
    "print(\"Regardless of the choice of plane, the only plane in which the tractionvector is zero \\nis the plane e3 (the third entry in the vector.)\")"
   ]
  },
  {
   "cell_type": "code",
   "execution_count": 36,
   "id": "ba50fefb-7e39-42be-9b00-a9c35beeec62",
   "metadata": {},
   "outputs": [
    {
     "data": {
      "text/latex": [
       "3. The Strain tensor $\\\\$\n",
       "Q11: The strain tensor at a point is given by\n",
       "$$\n",
       "\\epsilon = \\begin{bmatrix} \n",
       "\t1 & -3 & \\sqrt{2} \\\\\n",
       "\t-3 & 1 & -\\sqrt{2} \\\\\n",
       "\t\\sqrt{2} & -\\sqrt{2} & 4 \\\\\n",
       "\t\\end{bmatrix}\n",
       "$$\n",
       "Determine the extensional (i.e. normal) and shear strains in the direction \n",
       "$n = (1/2)e_1 - (1/2)e_2 + (1/\\sqrt{2})e_3$\n"
      ],
      "text/plain": [
       "<IPython.core.display.Latex object>"
      ]
     },
     "metadata": {},
     "output_type": "display_data"
    }
   ],
   "source": [
    "%%latex\n",
    "3. The Strain tensor $\\\\$\n",
    "Q11: The strain tensor at a point is given by\n",
    "$$\n",
    "\\epsilon = \\begin{bmatrix} \n",
    "\t1 & -3 & \\sqrt{2} \\\\\n",
    "\t-3 & 1 & -\\sqrt{2} \\\\\n",
    "\t\\sqrt{2} & -\\sqrt{2} & 4 \\\\\n",
    "\t\\end{bmatrix}\n",
    "$$\n",
    "Determine the extensional (i.e. normal) and shear strains in the direction \n",
    "$n = (1/2)e_1 - (1/2)e_2 + (1/\\sqrt{2})e_3$"
   ]
  },
  {
   "cell_type": "code",
   "execution_count": 37,
   "id": "8b29b1c7-0aa7-44bb-a98d-d3b962356bb9",
   "metadata": {},
   "outputs": [
    {
     "name": "stdout",
     "output_type": "stream",
     "text": [
      "Normal Strain in the given direction n = 6.00000000000000\n",
      "Shear Strain along the given direction n =√5189\n"
     ]
    }
   ],
   "source": [
    "# are these supposed to magnitudes, or vectors?\n",
    "e = Matrix([[1,-3,sqrt(2)],[-3,1,-1*sqrt(2)],[sqrt(2),-1*sqrt(2),4]])\n",
    "n = Matrix([1/2,-1/2,1/sqrt(2)])\n",
    "e_n = e*n\n",
    "e_n_normal = e_n.dot(n)\n",
    "#test = Transpose(n)*e*n\n",
    "print(\"Normal Strain in the given direction n = \" + str(e_n_normal))\n",
    "shear_strain = e_n - e_n_normal*n\n",
    "shear_strain_norm = shear_stress.norm()\n",
    "print(\"Shear Strain along the given direction n =\" + str(pretty(shear_strain_norm)))"
   ]
  },
  {
   "cell_type": "code",
   "execution_count": 38,
   "id": "71ff49de-71f0-4db6-9a23-d7659f60947d",
   "metadata": {},
   "outputs": [
    {
     "data": {
      "text/latex": [
       "Q12:  A displacement field is given by $u_1 = 3x_1x_2^2$, $u_2 = 2x_3x_1,$ and $u_3=x^{2}_3 − x_1x_2$. \n",
       "Determine the strain tensor $\\epsilon$.\n"
      ],
      "text/plain": [
       "<IPython.core.display.Latex object>"
      ]
     },
     "metadata": {},
     "output_type": "display_data"
    }
   ],
   "source": [
    "%%latex\n",
    "Q12:  A displacement field is given by $u_1 = 3x_1x_2^2$, $u_2 = 2x_3x_1,$ and $u_3=x^{2}_3 − x_1x_2$. \n",
    "Determine the strain tensor $\\epsilon$."
   ]
  },
  {
   "cell_type": "code",
   "execution_count": 39,
   "id": "66385d75-d0c6-4b66-b041-2e48c86058cf",
   "metadata": {},
   "outputs": [
    {
     "name": "stdout",
     "output_type": "stream",
     "text": [
      "Strain Tensor e:\n"
     ]
    },
    {
     "data": {
      "text/latex": [
       "$\\displaystyle \\left[\\begin{matrix}3 x_{2}^{2} & 3.0 x_{1} x_{2} + 1.0 x_{3} & - 0.5 x_{2}\\\\3.0 x_{1} x_{2} + 1.0 x_{3} & 0 & 0.5 x_{1}\\\\- 0.5 x_{2} & 0.5 x_{1} & 2 x_{3}\\end{matrix}\\right]$"
      ],
      "text/plain": [
       "Matrix([\n",
       "[           3*x2**2, 3.0*x1*x2 + 1.0*x3, -0.5*x2],\n",
       "[3.0*x1*x2 + 1.0*x3,                  0,  0.5*x1],\n",
       "[           -0.5*x2,             0.5*x1,    2*x3]])"
      ]
     },
     "execution_count": 39,
     "metadata": {},
     "output_type": "execute_result"
    }
   ],
   "source": [
    "x1,x2,x3 = symbols('x1 x2 x3')\n",
    "u = Matrix([3*x1*x2**2,2*x3*x1,x3**2 - x1*x2])\n",
    "# normal strains\n",
    "exx = diff(u[0],x1)\n",
    "eyy = diff(u[1],x2)\n",
    "ezz = diff(u[2],x3)\n",
    "# shear strains\n",
    "exy = (1/2)*(diff(u[0],x2) + diff(u[1],x1))\n",
    "exz = (1/2)*(diff(u[0],x3) + diff(u[2],x1))\n",
    "eyz = (1/2)*(diff(u[1],x3) + diff(u[2],x2))\n",
    "# assembly of the strain tensor\n",
    "e = Matrix([[exx,exy,exz],[exy,eyy,eyz],[exz,eyz,ezz]])\n",
    "print(\"Strain Tensor e:\")\n",
    "e"
   ]
  },
  {
   "cell_type": "code",
   "execution_count": 40,
   "id": "86557774-9ba6-41a3-a2b9-8e43410a2982",
   "metadata": {},
   "outputs": [
    {
     "data": {
      "text/latex": [
       "Q13: A displacement field is given by $x_1 = X_1+AX_3, x_2 = X_2, and x_3 = X_3−AX_1$.  \n",
       "Calculate the volume change ∆V and show that ∆V≈0 if A is a very small constant.\n"
      ],
      "text/plain": [
       "<IPython.core.display.Latex object>"
      ]
     },
     "metadata": {},
     "output_type": "display_data"
    }
   ],
   "source": [
    "%%latex\n",
    "Q13: A displacement field is given by $x_1 = X_1+AX_3, x_2 = X_2, and x_3 = X_3−AX_1$.  \n",
    "Calculate the volume change ∆V and show that ∆V≈0 if A is a very small constant."
   ]
  },
  {
   "cell_type": "code",
   "execution_count": 41,
   "id": "3f14709d-e58a-4224-980d-9dbad2d02262",
   "metadata": {},
   "outputs": [
    {
     "data": {
      "text/latex": [
       "Note: as given in class, one way to look at volume change is the following:\n",
       "    $\\Delta V = \\frac{V_{def} - V_{init}}{V_{init}} = \\epsilon_{11} + \\epsilon_{22} + \\epsilon_{33}$\n"
      ],
      "text/plain": [
       "<IPython.core.display.Latex object>"
      ]
     },
     "metadata": {},
     "output_type": "display_data"
    }
   ],
   "source": [
    "%%latex\n",
    "Note: as given in class, one way to look at volume change is the following:\n",
    "    $\\Delta V = \\frac{V_{def} - V_{init}}{V_{init}} = \\epsilon_{11} + \\epsilon_{22} + \\epsilon_{33}$"
   ]
  },
  {
   "cell_type": "code",
   "execution_count": 42,
   "id": "bcfcc583-e567-4c21-b810-40c0d44a9c4f",
   "metadata": {},
   "outputs": [
    {
     "data": {
      "text/latex": [
       "We will instead use the deformation gradient F to calculate the change in volume;\n",
       "$$\n",
       "    F_{ij} = \\frac{\\partial{x_i}}{\\partial{X_j}}\n",
       "$$\n",
       "Following this formula, we find that in this case,\n",
       "$$\n",
       "F = \\begin{bmatrix} \n",
       "\t1 & 0 & A \\\\\n",
       "\t0 & 1 & 0 \\\\\n",
       "\t-A & 0 & 1 \\\\\n",
       "\t\\end{bmatrix}\n",
       "$$\n"
      ],
      "text/plain": [
       "<IPython.core.display.Latex object>"
      ]
     },
     "metadata": {},
     "output_type": "display_data"
    }
   ],
   "source": [
    "%%latex\n",
    "We will instead use the deformation gradient F to calculate the change in volume;\n",
    "$$\n",
    "    F_{ij} = \\frac{\\partial{x_i}}{\\partial{X_j}}\n",
    "$$\n",
    "Following this formula, we find that in this case,\n",
    "$$\n",
    "F = \\begin{bmatrix} \n",
    "\t1 & 0 & A \\\\\n",
    "\t0 & 1 & 0 \\\\\n",
    "\t-A & 0 & 1 \\\\\n",
    "\t\\end{bmatrix}\n",
    "$$"
   ]
  },
  {
   "cell_type": "code",
   "execution_count": 43,
   "id": "f627a931-002b-4894-b4a2-7284993a8517",
   "metadata": {},
   "outputs": [
    {
     "name": "stdout",
     "output_type": "stream",
     "text": [
      "General formula for the change in volume of the given displacement field:\n"
     ]
    },
    {
     "data": {
      "text/latex": [
       "$\\displaystyle A^{2} + 1$"
      ],
      "text/plain": [
       "A**2 + 1"
      ]
     },
     "execution_count": 43,
     "metadata": {},
     "output_type": "execute_result"
    }
   ],
   "source": [
    "A = symbols('A')\n",
    "F = Matrix([[1,0,A],[0,1,0],[-A,0,1]])\n",
    "# the determinant of F, the deformation gradient, is equal to the scale factor of the volume change!\n",
    "J = det(F)\n",
    "print(\"General formula for the change in volume of the given displacement field:\")\n",
    "J"
   ]
  },
  {
   "cell_type": "code",
   "execution_count": 44,
   "id": "8cea392b-f192-4eee-a0bb-54ce50057bce",
   "metadata": {},
   "outputs": [
    {
     "data": {
      "text/latex": [
       "If A is a very small constant, A << 1, thus we can state\n",
       "$A^2 + 1 \\approx 1$\n",
       "Thus, as the scale factor of the volume change is 1, we can state that $\\Delta V \\approx 0.$\n"
      ],
      "text/plain": [
       "<IPython.core.display.Latex object>"
      ]
     },
     "metadata": {},
     "output_type": "display_data"
    }
   ],
   "source": [
    "%%latex\n",
    "If A is a very small constant, A << 1, thus we can state\n",
    "$A^2 + 1 \\approx 1$\n",
    "Thus, as the scale factor of the volume change is 1, we can state that $\\Delta V \\approx 0.$"
   ]
  },
  {
   "cell_type": "code",
   "execution_count": null,
   "id": "1cd0d0b7-0992-4b42-a61e-93b62e28e9f9",
   "metadata": {},
   "outputs": [],
   "source": []
  },
  {
   "cell_type": "code",
   "execution_count": null,
   "id": "9d21c09b-e1ca-4c41-bc88-26778e8d7648",
   "metadata": {},
   "outputs": [],
   "source": []
  }
 ],
 "metadata": {
  "kernelspec": {
   "display_name": "Python 3",
   "language": "python",
   "name": "python3"
  },
  "language_info": {
   "codemirror_mode": {
    "name": "ipython",
    "version": 3
   },
   "file_extension": ".py",
   "mimetype": "text/x-python",
   "name": "python",
   "nbconvert_exporter": "python",
   "pygments_lexer": "ipython3",
   "version": "3.6.9"
  }
 },
 "nbformat": 4,
 "nbformat_minor": 5
}
