{
 "cells": [
  {
   "cell_type": "code",
   "execution_count": 6,
   "id": "ea485aeb-dc51-405c-8e98-1f3a0f413b9d",
   "metadata": {},
   "outputs": [],
   "source": [
    "# Kenneth L Meyer\n",
    "# 9/28/2021\n",
    "# BME 384 HW3\n",
    "\n",
    "import numpy as np\n",
    "import sympy"
   ]
  },
  {
   "cell_type": "code",
   "execution_count": 7,
   "id": "21310301-1976-4366-84de-bd6c0c950bcd",
   "metadata": {},
   "outputs": [
    {
     "data": {
      "text/latex": [
       "$\\textbf{Q1:}$  If the Lame constants are given by λ=119.2 GPa and μ= 79.2 GPa, find Young’s modulus, Poisson’s ratio, and the bulk modulus.\n"
      ],
      "text/plain": [
       "<IPython.core.display.Latex object>"
      ]
     },
     "metadata": {},
     "output_type": "display_data"
    }
   ],
   "source": [
    "%%latex\n",
    "$\\textbf{Q1:}$  If the Lame constants are given by λ=119.2 GPa and μ= 79.2 GPa, find Young’s modulus, Poisson’s ratio, and the bulk modulus.\n"
   ]
  },
  {
   "cell_type": "code",
   "execution_count": null,
   "id": "625b2b12-a483-4041-af21-92aa3e0408b2",
   "metadata": {},
   "outputs": [],
   "source": []
  }
 ],
 "metadata": {
  "kernelspec": {
   "display_name": "Python 3",
   "language": "python",
   "name": "python3"
  },
  "language_info": {
   "codemirror_mode": {
    "name": "ipython",
    "version": 3
   },
   "file_extension": ".py",
   "mimetype": "text/x-python",
   "name": "python",
   "nbconvert_exporter": "python",
   "pygments_lexer": "ipython3",
   "version": "3.6.9"
  }
 },
 "nbformat": 4,
 "nbformat_minor": 5
}
