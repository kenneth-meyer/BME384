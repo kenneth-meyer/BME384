{
 "cells": [
  {
   "cell_type": "code",
   "execution_count": 1,
   "id": "c10ca10a-10a1-4e0d-bdb0-b7ba933b6e9c",
   "metadata": {},
   "outputs": [],
   "source": [
    "import numpy as np"
   ]
  },
  {
   "cell_type": "code",
   "execution_count": 2,
   "id": "ca2f4b21-e0a7-48f5-bc9b-1c2dee23bcf4",
   "metadata": {},
   "outputs": [
    {
     "data": {
      "text/plain": [
       "array([0., 0., 0.])"
      ]
     },
     "execution_count": 2,
     "metadata": {},
     "output_type": "execute_result"
    }
   ],
   "source": [
    "np.zeros(3)"
   ]
  },
  {
   "cell_type": "code",
   "execution_count": 3,
   "id": "916f06eb-e4aa-4fb0-8dd2-c3af7eb8ad4f",
   "metadata": {},
   "outputs": [],
   "source": [
    "# the above code was just used to test to see if the notebook was working"
   ]
  },
  {
   "cell_type": "code",
   "execution_count": 33,
   "id": "be72e67c-7918-41b0-82cc-497141c1ee6b",
   "metadata": {},
   "outputs": [],
   "source": [
    "# this entry is testing how to use latex within jupyter notebooks\n",
    "#$$ Q1: Construct the Products A\\dotB and B\\dotA, with A and B being:$$\n",
    "\n",
    "A = np.array([[1,2,3],[4,5,6],[7,8,9]])\n",
    "B = np.array([[10,11,12],[13,14,15],[16,17,18]])"
   ]
  },
  {
   "cell_type": "code",
   "execution_count": 23,
   "id": "7f0cace2-1ce4-4639-97ad-efd243f92d45",
   "metadata": {},
   "outputs": [
    {
     "data": {
      "text/latex": [
       "Q1: Construct the Products $A \\cdot B$ and $B \\cdot A$, with $A$ and $B$ being\n",
       "$$\n",
       "A = \\begin{bmatrix} \n",
       "\t1 & 2 & 3 \\\\\n",
       "\t4 & 5 & 6\\\\\n",
       "\t7 & 8 & 9 \\\\\n",
       "\t\\end{bmatrix}, \n",
       "B = \\begin{bmatrix} \n",
       "\t10 & 11 & 12 \\\\\n",
       "\t13 & 14 & 15\\\\\n",
       "\t16 & 17 & 18 \\\\\n",
       "\t\\end{bmatrix} \n",
       "$$\n"
      ],
      "text/plain": [
       "<IPython.core.display.Latex object>"
      ]
     },
     "metadata": {},
     "output_type": "display_data"
    }
   ],
   "source": [
    "%%latex\n",
    "Q1: Construct the Products $A \\cdot B$ and $B \\cdot A$, with $A$ and $B$ being\n",
    "$$\n",
    "A = \\begin{bmatrix} \n",
    "\t1 & 2 & 3 \\\\\n",
    "\t4 & 5 & 6\\\\\n",
    "\t7 & 8 & 9 \\\\\n",
    "\t\\end{bmatrix}, \n",
    "B = \\begin{bmatrix} \n",
    "\t10 & 11 & 12 \\\\\n",
    "\t13 & 14 & 15\\\\\n",
    "\t16 & 17 & 18 \\\\\n",
    "\t\\end{bmatrix} \n",
    "$$\n",
    "$$ A \\cdot B = $$"
   ]
  },
  {
   "cell_type": "code",
   "execution_count": null,
   "id": "6239cb54-30d0-4231-81b7-71fe1993f7cc",
   "metadata": {},
   "outputs": [],
   "source": []
  }
 ],
 "metadata": {
  "kernelspec": {
   "display_name": "Python 3",
   "language": "python",
   "name": "python3"
  },
  "language_info": {
   "codemirror_mode": {
    "name": "ipython",
    "version": 3
   },
   "file_extension": ".py",
   "mimetype": "text/x-python",
   "name": "python",
   "nbconvert_exporter": "python",
   "pygments_lexer": "ipython3",
   "version": "3.6.9"
  }
 },
 "nbformat": 4,
 "nbformat_minor": 5
}
